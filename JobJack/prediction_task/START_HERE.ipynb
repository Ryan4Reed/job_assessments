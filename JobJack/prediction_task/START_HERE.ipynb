{
 "cells": [
  {
   "cell_type": "markdown",
   "id": "83d3d488",
   "metadata": {},
   "source": [
    "# Table of contents:"
   ]
  },
  {
   "cell_type": "markdown",
   "id": "629c23c0",
   "metadata": {},
   "source": [
    "* Data exploration files:\n",
    "    * data_exploration_provincial_and_overall.ipynb\n",
    "        * In this notebook we explore the data on a country and provincial level. The purpose is to start to get a feel for the data and create some pretty cool illustrations.\n",
    "    * data_exploration_city_level.ipynb\n",
    "        * In this notebook we explore the data on a city level. We keep this exploration separate from the overall and provincial level analysis as we are using a different dataset here. One that contains only entries for which we have a city registered.\n",
    "\n",
    "* Data preparation files:\n",
    "    * data_preperation.ipynb\n",
    "        * In this notebook we prepare out data for training.\n",
    "\n",
    "* Prediction files:\n",
    "    * rolling_forecast.ipynb\n",
    "        * This notebook is dedicated to the development of a rolling forcast model. A rolling forecast model incorporates prediction for the current month in the making of predictions for the next. \n",
    "    * forcast.ipynb\n",
    "        * This notebook is dedicated to the development of a forcast model. Unlike the previous model this does not for under the paradigm of a rolling forecast model.\n",
    "        \n",
    "* Discussion files:\n",
    "    * discussion_results.ipynb\n",
    "        * This notebook contains a discussion on the adopted approach and obtained results."
   ]
  },
  {
   "cell_type": "code",
   "execution_count": 1,
   "id": "6028357a",
   "metadata": {},
   "outputs": [],
   "source": [
    "# Enjoy!!!!!!!!!!!!!!!!!!!!!!!!!!!!"
   ]
  }
 ],
 "metadata": {
  "kernelspec": {
   "display_name": "Python 3 (ipykernel)",
   "language": "python",
   "name": "python3"
  },
  "language_info": {
   "codemirror_mode": {
    "name": "ipython",
    "version": 3
   },
   "file_extension": ".py",
   "mimetype": "text/x-python",
   "name": "python",
   "nbconvert_exporter": "python",
   "pygments_lexer": "ipython3",
   "version": "3.9.13"
  }
 },
 "nbformat": 4,
 "nbformat_minor": 5
}
