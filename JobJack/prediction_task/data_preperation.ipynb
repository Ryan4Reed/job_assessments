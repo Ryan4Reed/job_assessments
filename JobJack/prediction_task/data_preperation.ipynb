{
 "cells": [
  {
   "cell_type": "markdown",
   "id": "db11d205",
   "metadata": {},
   "source": [
    "# Data preparation\n",
    "\n",
    "In this notebook we prepare out data for training. The following tasks are completed:\n",
    "\n",
    "* Add entries for dates on which a province had no signups\n",
    "\n",
    "* Engineer the following features:\n",
    "   * num_signups_one_back: The number of signups for the province in question in the previous month.\n",
    "   * num_signups_twelve_back: The number of signups for the province in question 12 months back (to pick up on yearly trends).\n",
    "   * year: The current year.\n",
    "   * month: The current month.\n",
    "   \n",
    "* One hot encode the following column:\n",
    "   * province\n",
    "   \n",
    "* Set date column to be the index\n",
    "   \n",
    "* Drop the following columns:\n",
    "   * id\n",
    "   * city\n",
    "   \n",
    "* Our features in the training task will thus be:\n",
    "   * num_signups_one_back: The number of signups for the province in question in the previous month.\n",
    "   * num_signups_twelve_back: The number of signups for the province in question 12 months back (to pick up on yearly trends).\n",
    "   * year: The current year.\n",
    "   * month: The current month.\n",
    "   * province: The province in question\n",
    "   \n",
    "* And our target variable will be:\n",
    "   * num_signups\n",
    "   \n",
    "We will make predictions for each month from the end of our data (2023-05-01) until the point of interest (2025-01-01). In order to determine the total number of signups at that point in time. We will sum the predictions for each province for each month and add that to the amount of predictions at the starting date (1 500 000). These results will be discussed in a notebook so named. This notebook only focussed on data preperation. "
   ]
  },
  {
   "cell_type": "code",
   "execution_count": null,
   "id": "b09f6d9c",
   "metadata": {},
   "outputs": [],
   "source": [
    "#Unfortunaly I did not have time to refactor this notebook into functions"
   ]
  },
  {
   "cell_type": "code",
   "execution_count": 1,
   "id": "4529f02c",
   "metadata": {},
   "outputs": [],
   "source": [
    "import pandas as pd\n",
    "import numpy as np\n",
    "from datetime import datetime\n",
    "import warnings\n",
    "warnings.filterwarnings(\"ignore\")"
   ]
  },
  {
   "cell_type": "code",
   "execution_count": 42,
   "id": "26fbf577",
   "metadata": {},
   "outputs": [],
   "source": [
    "df = pd.read_csv('data_provincial.csv')"
   ]
  },
  {
   "cell_type": "code",
   "execution_count": 43,
   "id": "2b8124cc",
   "metadata": {},
   "outputs": [
    {
     "data": {
      "text/html": [
       "<div>\n",
       "<style scoped>\n",
       "    .dataframe tbody tr th:only-of-type {\n",
       "        vertical-align: middle;\n",
       "    }\n",
       "\n",
       "    .dataframe tbody tr th {\n",
       "        vertical-align: top;\n",
       "    }\n",
       "\n",
       "    .dataframe thead th {\n",
       "        text-align: right;\n",
       "    }\n",
       "</style>\n",
       "<table border=\"1\" class=\"dataframe\">\n",
       "  <thead>\n",
       "    <tr style=\"text-align: right;\">\n",
       "      <th></th>\n",
       "      <th>id</th>\n",
       "      <th>date_column</th>\n",
       "      <th>city</th>\n",
       "      <th>province</th>\n",
       "      <th>num_signups</th>\n",
       "    </tr>\n",
       "  </thead>\n",
       "  <tbody>\n",
       "    <tr>\n",
       "      <th>0</th>\n",
       "      <td>29589</td>\n",
       "      <td>2018-11-01</td>\n",
       "      <td>NaN</td>\n",
       "      <td>northern cape</td>\n",
       "      <td>4</td>\n",
       "    </tr>\n",
       "    <tr>\n",
       "      <th>1</th>\n",
       "      <td>29590</td>\n",
       "      <td>2023-05-01</td>\n",
       "      <td>NaN</td>\n",
       "      <td>free state</td>\n",
       "      <td>2149</td>\n",
       "    </tr>\n",
       "    <tr>\n",
       "      <th>2</th>\n",
       "      <td>29591</td>\n",
       "      <td>2019-02-01</td>\n",
       "      <td>NaN</td>\n",
       "      <td>free state</td>\n",
       "      <td>50</td>\n",
       "    </tr>\n",
       "    <tr>\n",
       "      <th>3</th>\n",
       "      <td>29592</td>\n",
       "      <td>2021-10-01</td>\n",
       "      <td>NaN</td>\n",
       "      <td>kwazulu natal</td>\n",
       "      <td>6273</td>\n",
       "    </tr>\n",
       "    <tr>\n",
       "      <th>4</th>\n",
       "      <td>29593</td>\n",
       "      <td>2019-07-01</td>\n",
       "      <td>NaN</td>\n",
       "      <td>north west</td>\n",
       "      <td>3</td>\n",
       "    </tr>\n",
       "  </tbody>\n",
       "</table>\n",
       "</div>"
      ],
      "text/plain": [
       "      id date_column  city       province  num_signups\n",
       "0  29589  2018-11-01   NaN  northern cape            4\n",
       "1  29590  2023-05-01   NaN     free state         2149\n",
       "2  29591  2019-02-01   NaN     free state           50\n",
       "3  29592  2021-10-01   NaN  kwazulu natal         6273\n",
       "4  29593  2019-07-01   NaN     north west            3"
      ]
     },
     "execution_count": 43,
     "metadata": {},
     "output_type": "execute_result"
    }
   ],
   "source": [
    "df.head()"
   ]
  },
  {
   "cell_type": "code",
   "execution_count": 44,
   "id": "2bcd5e94",
   "metadata": {},
   "outputs": [],
   "source": [
    "df['date_column'] = pd.to_datetime(df['date_column'])"
   ]
  },
  {
   "cell_type": "markdown",
   "id": "f18d6c0c",
   "metadata": {},
   "source": [
    "#### Add entries for dates on which a province had no signups"
   ]
  },
  {
   "cell_type": "code",
   "execution_count": 45,
   "id": "cb8f20b9",
   "metadata": {},
   "outputs": [],
   "source": [
    "# Create date range\n",
    "all_dates = pd.date_range(start='2018-01-01', end='2023-05-01', freq='MS')\n",
    "all_dates_df = pd.DataFrame({'date_column': all_dates})\n",
    "\n",
    "# Create a dataframe of unique provinces\n",
    "provinces_df = pd.DataFrame({'province': df['province'].unique()})\n",
    "\n",
    "# Perform a cross join to create a combination of all_dates and provinces\n",
    "all_dates_provinces = all_dates_df.assign(key=1).merge(provinces_df.assign(key=1), on='key').drop('key', axis=1)\n",
    "\n",
    "# Merge the new dataframe with the original dataframe\n",
    "df = pd.merge(all_dates_provinces, df, how='left', on=['date_column', 'province'])\n",
    "\n",
    "# Fill NaN values in num_signups with 0\n",
    "df['num_signups'].fillna(0, inplace=True)"
   ]
  },
  {
   "cell_type": "markdown",
   "id": "08d1f52d",
   "metadata": {},
   "source": [
    "#### Engineer the following features:\n",
    "   * num_signups_one_back: The number of signups for the province in question in the previous month.\n",
    "   * num_signups_twelve_back: The number of signups for the province in question 12 months back (to pick up on yearly trends).\n",
    "   * year: The current year.\n",
    "   * month: The current month."
   ]
  },
  {
   "cell_type": "code",
   "execution_count": 46,
   "id": "bbca0b07",
   "metadata": {},
   "outputs": [],
   "source": [
    "#num_signups_one_back\n",
    "df.sort_values(by=['province', 'date_column'], inplace=True)\n",
    "df['num_signups_one_back'] = df.groupby('province')['num_signups'].shift(1)\n",
    "df['num_signups_one_back'].fillna(0, inplace=True)"
   ]
  },
  {
   "cell_type": "code",
   "execution_count": 47,
   "id": "3051067e",
   "metadata": {},
   "outputs": [],
   "source": [
    "#num_signups_twelve_back\n",
    "df.sort_values(by=['province', 'date_column'], inplace=True)\n",
    "df['num_signups_twelve_back'] = df.groupby('province')['num_signups'].shift(12)\n",
    "df['num_signups_twelve_back'].fillna(0, inplace=True)"
   ]
  },
  {
   "cell_type": "code",
   "execution_count": 48,
   "id": "c6266052",
   "metadata": {},
   "outputs": [],
   "source": [
    "#year and month\n",
    "df['year'] = df['date_column'].dt.year\n",
    "df['month'] = df['date_column'].dt.month"
   ]
  },
  {
   "cell_type": "markdown",
   "id": "49a2f2f8",
   "metadata": {},
   "source": [
    "#### One hot encode the following column:"
   ]
  },
  {
   "cell_type": "code",
   "execution_count": 49,
   "id": "f8184fb0",
   "metadata": {},
   "outputs": [],
   "source": [
    "#province\n",
    "df = pd.get_dummies(df, columns=['province'])"
   ]
  },
  {
   "cell_type": "markdown",
   "id": "cc388fde",
   "metadata": {},
   "source": [
    "#### Set date column to be the index"
   ]
  },
  {
   "cell_type": "code",
   "execution_count": 50,
   "id": "a226ef7f",
   "metadata": {
    "scrolled": true
   },
   "outputs": [],
   "source": [
    "df.set_index('date_column', inplace=True)"
   ]
  },
  {
   "cell_type": "markdown",
   "id": "3de909a0",
   "metadata": {},
   "source": [
    "#### Drop the following columns:"
   ]
  },
  {
   "cell_type": "code",
   "execution_count": 51,
   "id": "f69d0cc7",
   "metadata": {},
   "outputs": [],
   "source": [
    "# id, city\n",
    "columns_to_drop = ['id', 'city']\n",
    "df = df.drop(columns_to_drop, axis=1)"
   ]
  },
  {
   "cell_type": "code",
   "execution_count": 55,
   "id": "ff3d1590",
   "metadata": {},
   "outputs": [],
   "source": [
    "#### Write prepared data to file\n",
    "file_path = 'data_prepared.csv'\n",
    "df.to_csv(file_path)"
   ]
  },
  {
   "cell_type": "code",
   "execution_count": null,
   "id": "a36c8c50",
   "metadata": {},
   "outputs": [],
   "source": []
  }
 ],
 "metadata": {
  "kernelspec": {
   "display_name": "Python 3 (ipykernel)",
   "language": "python",
   "name": "python3"
  },
  "language_info": {
   "codemirror_mode": {
    "name": "ipython",
    "version": 3
   },
   "file_extension": ".py",
   "mimetype": "text/x-python",
   "name": "python",
   "nbconvert_exporter": "python",
   "pygments_lexer": "ipython3",
   "version": "3.9.13"
  }
 },
 "nbformat": 4,
 "nbformat_minor": 5
}
