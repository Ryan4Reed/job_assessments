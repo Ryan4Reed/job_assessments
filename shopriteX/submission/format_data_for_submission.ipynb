{
 "cells": [
  {
   "cell_type": "markdown",
   "id": "265e0fe9",
   "metadata": {},
   "source": [
    "# format_data_for_submission"
   ]
  },
  {
   "cell_type": "markdown",
   "id": "bfa2fc47",
   "metadata": {},
   "source": [
    "This notebook simply formats all the predictions for the different shops into a single csv file for submission"
   ]
  },
  {
   "cell_type": "code",
   "execution_count": 30,
   "id": "ea7d7bbb",
   "metadata": {},
   "outputs": [],
   "source": [
    "import pandas as pd\n",
    "import warnings\n",
    "warnings.filterwarnings('ignore')"
   ]
  },
  {
   "cell_type": "code",
   "execution_count": 31,
   "id": "a9f8cc47",
   "metadata": {},
   "outputs": [],
   "source": [
    "def main():\n",
    "    \"\"\"\n",
    "    Main executable. \n",
    "    \"\"\"\n",
    "    #read shop list\n",
    "    shops = pd.read_csv('preds_monthly_by_shop/shop_list')\n",
    "    for i, shop in enumerate(shops['shops'].tolist()): \n",
    "        df_new = pd.read_csv('preds_monthly_by_shop/shop_' + str(shop), index_col='Unnamed: 0')\n",
    "        if i == 0:\n",
    "            df = df_new\n",
    "        else:\n",
    "            df = df.append(df_new)\n",
    "    \n",
    "    return df\n",
    "\n",
    "df = main()\n",
    "df.to_csv('preds_monthly_by_shop/june_predictions')"
   ]
  },
  {
   "cell_type": "code",
   "execution_count": 32,
   "id": "e91f7c61",
   "metadata": {},
   "outputs": [
    {
     "data": {
      "text/plain": [
       "0.0      160732\n",
       "2.0       14069\n",
       "1.0       11139\n",
       "3.0        3434\n",
       "4.0        1184\n",
       "          ...  \n",
       "81.0          1\n",
       "103.0         1\n",
       "84.0          1\n",
       "714.0         1\n",
       "52.0          1\n",
       "Name: prediction, Length: 76, dtype: int64"
      ]
     },
     "execution_count": 32,
     "metadata": {},
     "output_type": "execute_result"
    }
   ],
   "source": [
    "df.prediction.value_counts()"
   ]
  },
  {
   "cell_type": "code",
   "execution_count": null,
   "id": "cbd63bc9",
   "metadata": {},
   "outputs": [],
   "source": []
  }
 ],
 "metadata": {
  "kernelspec": {
   "display_name": "Python 3 (ipykernel)",
   "language": "python",
   "name": "python3"
  },
  "language_info": {
   "codemirror_mode": {
    "name": "ipython",
    "version": 3
   },
   "file_extension": ".py",
   "mimetype": "text/x-python",
   "name": "python",
   "nbconvert_exporter": "python",
   "pygments_lexer": "ipython3",
   "version": "3.9.13"
  }
 },
 "nbformat": 4,
 "nbformat_minor": 5
}
